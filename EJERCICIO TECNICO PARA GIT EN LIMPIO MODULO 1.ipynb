{
 "cells": [
  {
   "cell_type": "markdown",
   "metadata": {},
   "source": [
    "# EJERCICIO LIMPIO"
   ]
  },
  {
   "cell_type": "code",
   "execution_count": 1,
   "metadata": {},
   "outputs": [],
   "source": [
    "class TiendaOnline:\n",
    "    def __init__(self):\n",
    "        self.inventario = [] # lista de diccionarios, la creamos vacia para que se vayan acumulando los diferentes productos (dicc)\n",
    "        self.clientes = {} # diccionario para representar a cada cliente. Las claves son: nombre, email, compras.\n",
    "        self.ventas_totales = 0.0  # un float porque es donde se van a calcular y registrar las ventas totales.\n",
    "\n",
    "\n",
    "    \n",
    "    def agregar_producto(self,nombre,precio,cantidad): # Este método agrega un producto  o actualiza su cantidad si ya existe.\n",
    "       \n",
    "       nuevo_producto = {\"nombre\":nombre, \"precio\":precio, \"cantidad\": cantidad}\n",
    "    \n",
    "       for producto in self.inventario:\n",
    "          if nombre == producto[\"nombre\"]:\n",
    "            producto[\"cantidad\"] += cantidad # iteramos en cada producto del inventario y si existe añadimos la cantidad deseada\n",
    "            return self.inventario\n",
    "       self.inventario.append(nuevo_producto)  # añadir un producto nuevo al inventario\n",
    "       print(f\"este {nombre} ha sido agregado al inventario\")\n",
    "\n",
    "        # nuevo producto = diccionario de nuevo_producto = {\"nombre\":nombre, \"cantidad\" : cantidad, \"precio\":precio} \n",
    "        # el valor no se pone entre comillas porque son las variables que usamos en la funcion\n",
    "\n",
    "    \n",
    "    def ver_inventario(self): # Muestra el inventario de productos con sus detalles.\n",
    "       \n",
    "       for producto in self.inventario:  # iteramos en cada producto del inventario \n",
    "        print(f\"aqui se muestra este producto {producto}.\")  # como itera en cada producto nos va mostrando todos ellos\n",
    "       \n",
    "          \n",
    "    def buscar_producto(self,nombre): # Busca un producto en el inventario por nombre y muestra sus detalles si se encuentra.\n",
    "       \n",
    "       for producto in self.inventario:\n",
    "        if nombre == producto[\"nombre\"]:  # el nombre es la variable que usa el cliente y parametro de la funcion, por eso no lleva comillas\n",
    "            return(f\"este producto se llama {producto[\"nombre\"]}. Su precio es {producto[\"precio\"]} y hay {producto[\"cantidad\"]}\")\n",
    "                   # Ponemos: ¨{producto[\"nombre\"]} porque tenemos que nombrar el diccionario y dentro del diccionario invocamos la clave.\n",
    "       \n",
    "       \n",
    "\n",
    "    def actualizar_stock(self,nombre,cantidad): # Actualiza el stock de un producto en el inventario. \n",
    "       \n",
    "       for producto in self.inventario: # llamamos producto a cada diccionario dentro de la lista, que seria self.inventario\n",
    "            if nombre == producto[\"nombre\"]:  # nombre es la variable que usa el cliente para cada producto y parametro de la funcion\n",
    "                                          # seria producto[\"nombre\"] porque primero nombramos el dicc y luego invocamos el valor:nombre\n",
    "                producto[\"cantidad\"] += cantidad  # para actualizar cantidad invocamos el valor cantidad del dicc y sumamos la variable cantidad\n",
    "                return self.inventario\n",
    "       print(f\"este producto {producto[\"nombre\"]} no está disponible\")\n",
    "       \n",
    "\n",
    "\n",
    "    def eliminar_producto(self,nombre): # Elimina un producto del inventario por nombre. Debe recibir el nombre del producto como parámetro.\n",
    "       \n",
    "       for producto in self.inventario: #iteramos por cada producto (dicc) de la lista self.inventario\n",
    "        if nombre == producto[\"nombre\"]:  # si el nombre que buscamos coincide con un producto (dicc) de la lista\n",
    "            self.inventario.remove(producto) # eliminamos el producto (dicc) de la lista self.inventario\n",
    "            return self.inventario\n",
    "       print(f\"este producto {nombre} no esta disponible\")\n",
    "            \n",
    "\n",
    "    def calcular_valor_inventario(self): # Calcula y muestra el valor total del inventario.\n",
    "       \n",
    "       total_productos = 0   # hacemos una lista vacia para que se vayan acumulando los productos\n",
    "\n",
    "       for producto in self.inventario:  # iteramos en la lista de dicc self.inventario\n",
    "           total_productos += (producto[\"precio\"] * producto[\"cantidad\"]) # creamos la variable para calcular el valor de cada producto (dicc)\n",
    "       print(f\"El valor total del inventario es:{total_productos}\")\n",
    "\n",
    "\n",
    "    def realizar_compra(self): # Permite a un cliente comprar seleccionando productos del inventario. \n",
    "       carrito_compra = {}  # creamos una lista de diccionarios para acumular todos los productos \n",
    "       total_compra = 0  # creamos una variable para acumular el importe total de la compra\n",
    "       \n",
    "       while True:  # creamos un bucle while para que el cliente vea el inventario y pase por cada producto\n",
    "        self.ver_inventario()  # el ejercicio nos pide mostrar el inventario\n",
    "        nombre = input(\"que producto quieres comprar? Pulsa salir para terminar la compra\") # \"cerrar\" incluimos opcion de romper bucle\n",
    "        if nombre == \"salir\": # si el cliente opta por cerrar se acaba el bucle\n",
    "            break\n",
    "        else:\n",
    "            cantidad = int(input(\"que cantidad quieres?\")) #preguntamos por la cantidad de producto\n",
    "\n",
    "            for producto2 in carrito_compra:  # creamos otra variable para el caso de que el cliente pida el mismo porducto 2 veces.\n",
    "                if nombre == producto2[\"nombre\"]:\n",
    "                    producto2[\"cantidad\"] += cantidad # si el cliente pide 2 veces se actualiza la cantidad\n",
    "                             \n",
    "            for producto in self.inventario: # aqui vamos a rellenar el carrito y el total de la compra\n",
    "\n",
    "                if nombre == producto[\"nombre\"]: # si el nombre del producto coincide con un producto del dicc\n",
    "\n",
    "                    if producto[\"cantidad\"] >= cantidad:  # para comprobar si hay suficiente cantidad para vender\n",
    "                        carrito_compra.update({\"nombre\":nombre,\"cantidad\":cantidad}) # al ser dicc de dicc usamos append\n",
    "                        total_compra += producto[\"precio\"] * cantidad # multiplicamos el precio de cada producto por cantidad\n",
    "                        self.actualizar_stock(producto[\"nombre\"],- cantidad)  #usamos esta funcion para que se actualice la nueva cantidad\n",
    "                        print(f\"este es el contenido de tu carrito {carrito_compra}, y este es el importe total {total_compra}\")\n",
    "                    else:\n",
    "                        print(\"no hay suficiente cantidad para añadir al carrito\")\n",
    "                        break\n",
    "                   \n",
    "                   "
   ]
  },
  {
   "cell_type": "code",
   "execution_count": 2,
   "metadata": {},
   "outputs": [],
   "source": [
    "ShopIt = TiendaOnline()"
   ]
  },
  {
   "cell_type": "markdown",
   "metadata": {},
   "source": [
    "### PROBAR AGREGAR PRODUCTO"
   ]
  },
  {
   "cell_type": "code",
   "execution_count": 3,
   "metadata": {},
   "outputs": [
    {
     "name": "stdout",
     "output_type": "stream",
     "text": [
      "este pingu ha sido agregado al inventario\n",
      "este patito ha sido agregado al inventario\n",
      "este gatito ha sido agregado al inventario\n",
      "este koalita ha sido agregado al inventario\n",
      "este pulpito ha sido agregado al inventario\n",
      "este dino ha sido agregado al inventario\n",
      "[{'nombre': 'pingu', 'precio': 10.0, 'cantidad': 5}, {'nombre': 'patito', 'precio': 12.0, 'cantidad': 7}, {'nombre': 'gatito', 'precio': 9.0, 'cantidad': 4}, {'nombre': 'koalita', 'precio': 3.0, 'cantidad': 8}, {'nombre': 'pulpito', 'precio': 8.0, 'cantidad': 7}, {'nombre': 'dino', 'precio': 5.0, 'cantidad': 12}]\n"
     ]
    }
   ],
   "source": [
    "ShopIt.agregar_producto(\"pingu\",10.0,5)\n",
    "ShopIt.agregar_producto(\"patito\",12.0,7)\n",
    "ShopIt.agregar_producto(\"gatito\",9.0,4)\n",
    "ShopIt.agregar_producto(\"koalita\",3.0,8)\n",
    "ShopIt.agregar_producto(\"pulpito\",8.0,7)\n",
    "ShopIt.agregar_producto(\"dino\",5.0,12)\n",
    "\n",
    "print(ShopIt.inventario)"
   ]
  },
  {
   "cell_type": "markdown",
   "metadata": {},
   "source": [
    "### PROBAR VER INVENTARIO"
   ]
  },
  {
   "cell_type": "code",
   "execution_count": 4,
   "metadata": {},
   "outputs": [
    {
     "name": "stdout",
     "output_type": "stream",
     "text": [
      "aqui se muestra este producto {'nombre': 'pingu', 'precio': 10.0, 'cantidad': 5}.\n",
      "aqui se muestra este producto {'nombre': 'patito', 'precio': 12.0, 'cantidad': 7}.\n",
      "aqui se muestra este producto {'nombre': 'gatito', 'precio': 9.0, 'cantidad': 4}.\n",
      "aqui se muestra este producto {'nombre': 'koalita', 'precio': 3.0, 'cantidad': 8}.\n",
      "aqui se muestra este producto {'nombre': 'pulpito', 'precio': 8.0, 'cantidad': 7}.\n",
      "aqui se muestra este producto {'nombre': 'dino', 'precio': 5.0, 'cantidad': 12}.\n"
     ]
    }
   ],
   "source": [
    "ShopIt.ver_inventario()\n"
   ]
  },
  {
   "cell_type": "markdown",
   "metadata": {},
   "source": [
    "### PROBAR BUSCAR PRODUCTO"
   ]
  },
  {
   "cell_type": "code",
   "execution_count": 5,
   "metadata": {},
   "outputs": [
    {
     "data": {
      "text/plain": [
       "'este producto se llama patito. Su precio es 12.0 y hay 7'"
      ]
     },
     "execution_count": 5,
     "metadata": {},
     "output_type": "execute_result"
    }
   ],
   "source": [
    "ShopIt.buscar_producto(\"patito\")"
   ]
  },
  {
   "cell_type": "markdown",
   "metadata": {},
   "source": []
  },
  {
   "cell_type": "markdown",
   "metadata": {},
   "source": [
    "### PROBAR ACTUALIZAR STOCK"
   ]
  },
  {
   "cell_type": "code",
   "execution_count": 6,
   "metadata": {},
   "outputs": [
    {
     "data": {
      "text/plain": [
       "[{'nombre': 'pingu', 'precio': 10.0, 'cantidad': 5},\n",
       " {'nombre': 'patito', 'precio': 12.0, 'cantidad': 7},\n",
       " {'nombre': 'gatito', 'precio': 9.0, 'cantidad': 4},\n",
       " {'nombre': 'koalita', 'precio': 3.0, 'cantidad': 8},\n",
       " {'nombre': 'pulpito', 'precio': 8.0, 'cantidad': 7},\n",
       " {'nombre': 'dino', 'precio': 5.0, 'cantidad': 17}]"
      ]
     },
     "execution_count": 6,
     "metadata": {},
     "output_type": "execute_result"
    }
   ],
   "source": [
    "ShopIt.actualizar_stock(\"dino\",5)"
   ]
  },
  {
   "cell_type": "markdown",
   "metadata": {},
   "source": [
    "### PROBAR ELIMINAR PRODUCTO"
   ]
  },
  {
   "cell_type": "code",
   "execution_count": 7,
   "metadata": {},
   "outputs": [
    {
     "data": {
      "text/plain": [
       "[{'nombre': 'pingu', 'precio': 10.0, 'cantidad': 5},\n",
       " {'nombre': 'patito', 'precio': 12.0, 'cantidad': 7},\n",
       " {'nombre': 'gatito', 'precio': 9.0, 'cantidad': 4},\n",
       " {'nombre': 'koalita', 'precio': 3.0, 'cantidad': 8},\n",
       " {'nombre': 'dino', 'precio': 5.0, 'cantidad': 17}]"
      ]
     },
     "execution_count": 7,
     "metadata": {},
     "output_type": "execute_result"
    }
   ],
   "source": [
    "ShopIt.eliminar_producto(\"pulpito\")"
   ]
  },
  {
   "cell_type": "markdown",
   "metadata": {},
   "source": [
    "### PROBAR CALCULAR VALOR INVENTARIO"
   ]
  },
  {
   "cell_type": "code",
   "execution_count": 8,
   "metadata": {},
   "outputs": [
    {
     "name": "stdout",
     "output_type": "stream",
     "text": [
      "El valor total del inventario es:279.0\n"
     ]
    }
   ],
   "source": [
    "ShopIt.calcular_valor_inventario()"
   ]
  },
  {
   "cell_type": "markdown",
   "metadata": {},
   "source": [
    "### PROBAR FUNCION REALIZAR COMPRA"
   ]
  },
  {
   "cell_type": "code",
   "execution_count": 9,
   "metadata": {},
   "outputs": [
    {
     "name": "stdout",
     "output_type": "stream",
     "text": [
      "aqui se muestra este producto {'nombre': 'pingu', 'precio': 10.0, 'cantidad': 5}.\n",
      "aqui se muestra este producto {'nombre': 'patito', 'precio': 12.0, 'cantidad': 7}.\n",
      "aqui se muestra este producto {'nombre': 'gatito', 'precio': 9.0, 'cantidad': 4}.\n",
      "aqui se muestra este producto {'nombre': 'koalita', 'precio': 3.0, 'cantidad': 8}.\n",
      "aqui se muestra este producto {'nombre': 'dino', 'precio': 5.0, 'cantidad': 17}.\n",
      "este es el contenido de tu carrito {'nombre': 'pingu', 'cantidad': 1}, y este es el importe total 10.0\n",
      "aqui se muestra este producto {'nombre': 'pingu', 'precio': 10.0, 'cantidad': 4}.\n",
      "aqui se muestra este producto {'nombre': 'patito', 'precio': 12.0, 'cantidad': 7}.\n",
      "aqui se muestra este producto {'nombre': 'gatito', 'precio': 9.0, 'cantidad': 4}.\n",
      "aqui se muestra este producto {'nombre': 'koalita', 'precio': 3.0, 'cantidad': 8}.\n",
      "aqui se muestra este producto {'nombre': 'dino', 'precio': 5.0, 'cantidad': 17}.\n"
     ]
    }
   ],
   "source": [
    "ShopIt.realizar_compra()"
   ]
  }
 ],
 "metadata": {
  "kernelspec": {
   "display_name": "Python 3",
   "language": "python",
   "name": "python3"
  },
  "language_info": {
   "codemirror_mode": {
    "name": "ipython",
    "version": 3
   },
   "file_extension": ".py",
   "mimetype": "text/x-python",
   "name": "python",
   "nbconvert_exporter": "python",
   "pygments_lexer": "ipython3",
   "version": "3.13.0"
  }
 },
 "nbformat": 4,
 "nbformat_minor": 2
}
